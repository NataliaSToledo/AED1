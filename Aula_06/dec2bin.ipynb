{
 "cells": [
  {
   "cell_type": "code",
   "execution_count": null,
   "id": "71bac13a-4d4e-49a8-8521-3d19c990e94f",
   "metadata": {},
   "outputs": [],
   "source": [
    "class Stack:\n",
    "    # Inicia com uma pilha vazia\n",
    "    def __init__(self):\n",
    "        self.itens = []\n",
    "    \n",
    "    # Verifica se pilha esta vazia\n",
    "    def is_empty(self):\n",
    "        return self.itens == []\n",
    "    \n",
    "    # Adiciona elemento no topo (topo e o final da lista)\n",
    "    def push(self, item):\n",
    "        self.itens.append(item)\n",
    "        print(f\"PUSH {item}\")\n",
    "\n",
    "    # Remove elemento do topo (final da lista)\n",
    "    def pop(self):\n",
    "        print(\"POP\")\n",
    "        return self.itens.pop()\n",
    "    \n",
    "    # Obtem o elemento do topo (mas nao remove)\n",
    "    def peek(self):\n",
    "    # Em Python, indice -1 retorna ultimo elemento (topo)\n",
    "        return self.itens[-1]\n",
    "    \n",
    "    # Retorna o numero de elementos da pilha\n",
    "    def size(self):\n",
    "        return len(self.itens)\n",
    "    \n",
    "    # Imprime pilha na tela\n",
    "    def print_stack(self):\n",
    "        print(self.itens)"
   ]
  },
  {
   "cell_type": "code",
   "execution_count": 11,
   "id": "e28cebed-e689-4aa5-9017-d67b390f16a6",
   "metadata": {},
   "outputs": [],
   "source": [
    "def decimal2binario(decimal):\n",
    "    p = Stack()\n",
    "    while decimal > 0:\n",
    "        resto = decimal % 2\n",
    "        p.push(resto)\n",
    "        decimal = decimal // 2\n",
    "    binario = ''\n",
    "    while not p.is_empty():\n",
    "        binario = binario + str(p.pop())\n",
    "    return binario   \n",
    "    "
   ]
  },
  {
   "cell_type": "code",
   "execution_count": 12,
   "id": "d94ecca7-28e5-4318-b41a-a28dc8f61974",
   "metadata": {},
   "outputs": [
    {
     "name": "stdin",
     "output_type": "stream",
     "text": [
      "Digite um valor decimal:  300\n"
     ]
    },
    {
     "name": "stdout",
     "output_type": "stream",
     "text": [
      "PUSH 0\n",
      "PUSH 0\n",
      "PUSH 1\n",
      "PUSH 1\n",
      "PUSH 0\n",
      "PUSH 1\n",
      "PUSH 0\n",
      "PUSH 0\n",
      "PUSH 1\n",
      "POP\n",
      "POP\n",
      "POP\n",
      "POP\n",
      "POP\n",
      "POP\n",
      "POP\n",
      "POP\n",
      "POP\n",
      "O valor 300 em binario é igual a 100101100\n"
     ]
    }
   ],
   "source": [
    "valor = int(input(\"Digite um valor decimal: \"))\n",
    "print(f\"O valor {valor} em binario é igual a {decimal2binario(valor)}\")"
   ]
  },
  {
   "cell_type": "code",
   "execution_count": null,
   "id": "4aa6f7e2-30e1-4bb9-8013-60c817ddfe34",
   "metadata": {},
   "outputs": [],
   "source": []
  }
 ],
 "metadata": {
  "kernelspec": {
   "display_name": "Python 3 (ipykernel)",
   "language": "python",
   "name": "python3"
  },
  "language_info": {
   "codemirror_mode": {
    "name": "ipython",
    "version": 3
   },
   "file_extension": ".py",
   "mimetype": "text/x-python",
   "name": "python",
   "nbconvert_exporter": "python",
   "pygments_lexer": "ipython3",
   "version": "3.12.4"
  }
 },
 "nbformat": 4,
 "nbformat_minor": 5
}
